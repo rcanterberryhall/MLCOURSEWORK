{
  "nbformat": 4,
  "nbformat_minor": 0,
  "metadata": {
    "colab": {
      "provenance": [],
      "toc_visible": true,
      "authorship_tag": "ABX9TyObeN8XD7GTR4YdY73xqatk",
      "include_colab_link": true
    },
    "kernelspec": {
      "name": "python3",
      "display_name": "Python 3"
    },
    "language_info": {
      "name": "python"
    }
  },
  "cells": [
    {
      "cell_type": "markdown",
      "metadata": {
        "id": "view-in-github",
        "colab_type": "text"
      },
      "source": [
        "<a href=\"https://colab.research.google.com/github/rcanterberryhall/MLCOURSEWORK/blob/Assignment1CS5262/ML_Assignment_1.ipynb\" target=\"_parent\"><img src=\"https://colab.research.google.com/assets/colab-badge.svg\" alt=\"Open In Colab\"/></a>"
      ]
    },
    {
      "cell_type": "code",
      "execution_count": null,
      "metadata": {
        "id": "oNatfcETqUTL"
      },
      "outputs": [],
      "source": []
    },
    {
      "cell_type": "markdown",
      "source": [
        "**bold text**# Assignment 1 CS 5262"
      ],
      "metadata": {
        "id": "8HXpuaTMVSA-"
      }
    },
    {
      "cell_type": "markdown",
      "source": [
        "# Assignment 1 CS 5262"
      ],
      "metadata": {
        "id": "JCeMJdSpVm0R"
      }
    },
    {
      "cell_type": "markdown",
      "source": [
        "Background:\n",
        "\n",
        "  According to https://www.machinemetrics.com/blog/the-real-cost-of-downtime-in-manufacturing, The cost of unplanned downtime due to mechanical machine failure can be as much as $260,000 an hour. Being able to manage machine maintainance, avoiding downtime while also avoiding costly over maintainance is critical to any manufacturing operation. The ability to predict needed mainainance base on real world data rather can prescriptive studies from OEMs would bring huge savings in both time and capital to the manufactoring industry. Though much has been discussed and researched in this area such as in the link https://towardsdatascience.com/how-to-implement-machine-learning-for-predictive-maintenance-4633cdbe4860. This particular student has not seen nay successful implimentation of a predictive maintainence schedule that is base on anything other than manufacturer recomendations. Though anecdotal, this experience spans over twenty years and covers four seperate, highly technical hardware dependent industries, \n",
        "\n",
        "Project description:\n",
        "\n",
        "  This project will use the dataset found at https://www.kaggle.com/datasets/shivamb/machine-predictive-maintenance-classification as a base to explor the possibilties of using machine leraing techniques as prescribed in the CS 5262 course at Vanderbilt University. The goal is to develop a machine learing based tool that will predict the type of maintainence required based on the data provided from the data set. The data provides the following as state from https://www.kaggle.com/datasets/shivamb/machine-predictive-maintenance-classification.\n",
        "\n",
        "\n",
        "  The dataset consists of 10,000 data points stored as rows with 14 features in columns\n",
        "\n",
        "*   UID: unique identifier ranging from 1 to 10000\n",
        "*   productID: consisting of a letter L, M, or H for low (50% of all products), medium (30%), and high (20%) as product quality variants and a variant-specific serial number.\n",
        "*   productID: consisting of a letter L, M, or H for low (50% of all products), medium (30%), and high (20%) as product quality variants and a variant-specific serial number\n",
        "*   process temperature [K]: generated using a random walk process normalized to a standard deviation of 1 K, added to the air temperature plus 10 K.\n",
        "*   rotational speed [rpm]: calculated from powepower of 2860 W, overlaid with a normally distributed noise\n",
        "*   torque [Nm]: torque values are normally distributed around 40 Nm with an Ïƒ = 10 Nm and no negative values.\n",
        "*   tool wear [min]: The quality variants H/M/L add 5/3/2 minutes of tool wear to the used tool in the process. and a\n",
        "'machine failure' label that indicates, whether the machine has failed in this particular data point for any of the following failure modes are true.\n",
        "\n",
        "This dataset is originally found at https://archive.ics.uci.edu/ml/datasets/AI4I+2020+Predictive+Maintenance+Dataset\n",
        "\n",
        "Performance metric:\n",
        "\n",
        "  The goal will be to develop a tool that can predict the type of failure with an error rate of less than 25%. To be more explicit that would mean that the agent can predict the type of failure or a case of no failure at a success rate of at least 3 times out of every 4, 3/4, 3:4 or 75%. \n",
        "\n",
        "\n",
        "\n",
        "\n",
        "\n",
        "\n",
        "\n",
        "\n",
        "\n"
      ],
      "metadata": {
        "id": "53d7uBkJWAUo"
      }
    }
  ]
}